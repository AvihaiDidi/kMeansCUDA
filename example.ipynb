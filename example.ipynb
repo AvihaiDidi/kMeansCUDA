{
 "cells": [
  {
   "cell_type": "code",
   "execution_count": null,
   "id": "b22942c9-0b30-4e46-abe5-375548be1244",
   "metadata": {},
   "outputs": [],
   "source": [
    "#Example notebook to show how this library can be used"
   ]
  },
  {
   "cell_type": "code",
   "execution_count": null,
   "id": "75527107-27d2-4c1c-9a75-f5a44a8c5af8",
   "metadata": {},
   "outputs": [],
   "source": [
    "# Process a single image\n",
    "\n",
    "import kMeans\n",
    "path = \"ImageName.png\"\n",
    "iterations = 10\n",
    "k = 2\n",
    "kMeans.singleImg(path, iterations, k)"
   ]
  },
  {
   "cell_type": "code",
   "execution_count": null,
   "id": "cc623b7d-7c9e-4611-b0ad-ed5dcf7a384c",
   "metadata": {},
   "outputs": [],
   "source": [
    "# Process a list of images\n",
    "\n",
    "import kMeans\n",
    "pathlist = [\"ImageName1.png\", \"ImageName2.png\", \"ImageName3.png\"]\n",
    "iterations = 10\n",
    "k = 2\n",
    "kMeans.singleImg(pathlist, iterations, k)"
   ]
  },
  {
   "cell_type": "code",
   "execution_count": null,
   "id": "2ecccb18-b280-40ae-a2ba-84a1f163b5a8",
   "metadata": {},
   "outputs": [],
   "source": [
    "# Process all images in a folder, for several different k values\n",
    "# Note that if the folder 'ImageFolder/out' doesn't already exist this code won't work\n",
    "\n",
    "import kMeans\n",
    "\n",
    "path = \"ImageFolder\"\n",
    "dest = \"ImageFolder/out\"\n",
    "iterations = 10\n",
    "klist = 2, 3, 4, 8, 16, 32\n",
    "for kk in klist:\n",
    "    kMeans.allInFolder(path, iterations, kk, printLog = True, dest = dest, fast = fast)"
   ]
  },
  {
   "cell_type": "code",
   "execution_count": null,
   "id": "e8af8251-4af2-49d9-a08a-2ac6e5e8747d",
   "metadata": {},
   "outputs": [],
   "source": [
    "# Process a single image,\n",
    "# and compare the time it takes for the CPU the CUDA implementations to do it\n",
    "# (hint: CUDA is faster)\n",
    "\n",
    "import kMeans\n",
    "import time\n",
    "path = \"ImageName.png\"\n",
    "iterations = 10\n",
    "k = 2\n",
    "t1 = time.time()\n",
    "kMeans.singleImg(path, iterations, k, CPU = False)\n",
    "t2 = time.time()\n",
    "print(f\"CUDA implementation took {t2 - t1} seconds to complete\")\n",
    "kMeans.singleImg(path, iterations, k, CPU = False)\n",
    "t3 = time.time()\n",
    "print(f\"CPU implementation took {t3 - t2} seconds to complete\")\n",
    "print(f\"CUDA is {(t2 - t1)/(t3 - t2)} times faster!\")"
   ]
  }
 ],
 "metadata": {
  "kernelspec": {
   "display_name": "Python 3 (ipykernel)",
   "language": "python",
   "name": "python3"
  },
  "language_info": {
   "codemirror_mode": {
    "name": "ipython",
    "version": 3
   },
   "file_extension": ".py",
   "mimetype": "text/x-python",
   "name": "python",
   "nbconvert_exporter": "python",
   "pygments_lexer": "ipython3",
   "version": "3.8.15"
  }
 },
 "nbformat": 4,
 "nbformat_minor": 5
}
